{
 "cells": [
  {
   "cell_type": "code",
   "execution_count": 1,
   "metadata": {
    "collapsed": true
   },
   "outputs": [],
   "source": [
    "%matplotlib inline\n",
    "from __future__ import division\n",
    "import numpy as np\n",
    "import matplotlib.pyplot as plt\n",
    "from math import exp"
   ]
  },
  {
   "cell_type": "code",
   "execution_count": 10,
   "metadata": {
    "collapsed": false
   },
   "outputs": [],
   "source": [
    "def discretedynamics(K, r, t):\n",
    "    Nt = []\n",
    "    Ntplus = []\n",
    "    NtVS = []\n",
    "    NtplusVS = []\n",
    "    for x in range(0,t):\n",
    "        if x == 0:\n",
    "            Nt.insert(x, 10)\n",
    "            ntplus = 10 * (1 + r * (1-(10/K)))\n",
    "            Ntplus.insert(x, ntplus)\n",
    "            NtVS.insert(x, 0)\n",
    "            NtplusVS.insert(x, 0)\n",
    "        else:\n",
    "            nt = Nt[x-1] * (1 + r * (1-(Nt[x-1]/K)))\n",
    "            Nt.insert(x, nt)\n",
    "            ntplus = Ntplus[x-1] * (1 + r * (1-(Ntplus[x-1]/K)))\n",
    "            Ntplus.insert(x, ntplus)\n",
    "            ntVS = NtVS[x-1] + 10\n",
    "            NtVS.insert(x, ntVS)\n",
    "            ntplusVS = NtVS[x] * (1 + r * (1-(NtVS[x]/K)))\n",
    "            NtplusVS.insert(x, ntplusVS)\n",
    "    #plt.plot(Nt, Ntplus)\n",
    "    #plt.plot(Nt, Nt)\n",
    "    #plt.xlabel(r'$N_{t}$')\n",
    "    #plt.ylabel(r'$N_{t}+1$')\n",
    "    #plt.show()\n",
    "    plt.figure(1)\n",
    "    plt.subplot(221)\n",
    "    plt.plot(Nt)\n",
    "    #plt.plot(Nt, Ntplus)\n",
    "    #plt.xlabel(r'$N_{t}$')\n",
    "    #plt.ylabel(r'$N_{t}+1$')\n",
    "    plt.subplot(222)\n",
    "    plt.plot(NtVS, NtVS)\n",
    "    plt.plot(NtVS,NtplusVS)\n",
    "    plt.xlim([0,200])\n",
    "    plt.ylim([0,200])\n",
    "    return plt"
   ]
  },
  {
   "cell_type": "code",
   "execution_count": 13,
   "metadata": {
    "collapsed": false
   },
   "outputs": [
    {
     "data": {
      "text/plain": [
       "<module 'matplotlib.pyplot' from '/Users/WRShoemaker/anaconda/lib/python2.7/site-packages/matplotlib/pyplot.pyc'>"
      ]
     },
     "execution_count": 13,
     "metadata": {},
     "output_type": "execute_result"
    },
    {
     "data": {
      "image/png": "[encoded data removed]",
      "text/plain": [
       "<matplotlib.figure.Figure at 0x1069c8f90>"
      ]
     },
     "metadata": {},
     "output_type": "display_data"
    }
   ],
   "source": [
    "discretedynamics(100, 2.656, 50)"
   ]
  },
  {
   "cell_type": "code",
   "execution_count": 7,
   "metadata": {
    "collapsed": false
   },
   "outputs": [],
   "source": [
    "def Ricker(K, r, t):\n",
    "    Nt = []\n",
    "    Ntplus = []\n",
    "    NtVS = []\n",
    "    NtplusVS = []\n",
    "    for x in range(0,t):\n",
    "        if x == 0:\n",
    "            Nt.insert(x, 10)\n",
    "            ntplus = 10 * exp(r*(1-(10/K)))\n",
    "            Ntplus.insert(x, ntplus)\n",
    "            NtVS.insert(x, 0)\n",
    "            NtplusVS.insert(x, 0)\n",
    "        else:\n",
    "            nt = Nt[x-1] * exp(r*(1-(Nt[x-1]/K)))\n",
    "            Nt.insert(x, nt)\n",
    "            ntplus = Ntplus[x-1] * exp(r*(1-(Ntplus[x-1]/K)))\n",
    "            Ntplus.insert(x, ntplus)\n",
    "            ntVS = NtVS[x-1] + 10\n",
    "            NtVS.insert(x, ntVS)\n",
    "            ntplusVS = NtVS[x] * exp(r*(1-(NtVS[x]/K)))\n",
    "            NtplusVS.insert(x, ntplusVS)\n",
    "    #plt.plot(Nt, Ntplus)\n",
    "    #plt.plot(Nt, Nt)\n",
    "    #plt.xlabel(r'$N_{t}$')\n",
    "    #plt.ylabel(r'$N_{t}+1$')\n",
    "    #plt.show()\n",
    "    plt.figure(1)\n",
    "    plt.subplot(221)\n",
    "    plt.plot(Nt)\n",
    "    #plt.plot(Nt, Ntplus)\n",
    "    #plt.xlabel(r'$N_{t}$')\n",
    "    #plt.ylabel(r'$N_{t}+1$')\n",
    "    plt.subplot(222)\n",
    "    plt.plot(NtVS, NtVS)\n",
    "    plt.plot(NtVS,NtplusVS)\n",
    "    plt.xlim([0,200])\n",
    "    plt.ylim([0,200])\n",
    "    return plt"
   ]
  },
  {
   "cell_type": "code",
   "execution_count": 16,
   "metadata": {
    "collapsed": false
   },
   "outputs": [
    {
     "data": {
      "text/plain": [
       "<module 'matplotlib.pyplot' from '/Users/WRShoemaker/anaconda/lib/python2.7/site-packages/matplotlib/pyplot.pyc'>"
      ]
     },
     "execution_count": 16,
     "metadata": {},
     "output_type": "execute_result"
    },
    {
     "data": {
      "image/png": "[encoded data removed]",
      "text/plain": [
       "<matplotlib.figure.Figure at 0x106f26510>"
      ]
     },
     "metadata": {},
     "output_type": "display_data"
    }
   ],
   "source": [
    "Ricker(100, 3, 50)"
   ]
  },
  {
   "cell_type": "code",
   "execution_count": null,
   "metadata": {
    "collapsed": true
   },
   "outputs": [],
   "source": []
  }
 ],
 "metadata": {
  "kernelspec": {
   "display_name": "Python 2",
   "language": "python",
   "name": "python2"
  },
  "language_info": {
   "codemirror_mode": {
    "name": "ipython",
    "version": 2
   },
   "file_extension": ".py",
   "mimetype": "text/x-python",
   "name": "python",
   "nbconvert_exporter": "python",
   "pygments_lexer": "ipython2",
   "version": "2.7.10"
  }
 },
 "nbformat": 4,
 "nbformat_minor": 0
}
