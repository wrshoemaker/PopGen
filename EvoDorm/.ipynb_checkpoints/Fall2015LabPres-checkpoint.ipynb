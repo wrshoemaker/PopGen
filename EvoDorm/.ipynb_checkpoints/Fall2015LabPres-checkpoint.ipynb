{
 "cells": [
  {
   "cell_type": "markdown",
   "metadata": {
    "slideshow": {
     "slide_type": "slide"
    }
   },
   "source": [
    "# Microbial seedbanks and their evolutionary implications "
   ]
  },
  {
   "cell_type": "markdown",
   "metadata": {
    "slideshow": {
     "slide_type": "fragment"
    }
   },
   "source": [
    "Dormancy background\n",
    "\n",
    "- Resources are finite\n",
    "\n",
    "- Microbes respond by enterint a reversible state of low metabolic activity\n",
    "\n",
    "- Ecological implications well-characterized(Jones & Lennon, 2010; Lennon & Jones, 2011)\n",
    "\n",
    "- So are molecular & physiological mechanisms (Sturm & Dworkin, 2015)\n"
   ]
  },
  {
   "cell_type": "code",
   "execution_count": null,
   "metadata": {
    "collapsed": true,
    "slideshow": {
     "slide_type": "-"
    }
   },
   "outputs": [],
   "source": [
    "from IPython.display import display, Image\n",
    "display(Image(filename='misc-you-dont-say-l.png'))"
   ]
  }
 ],
 "metadata": {
  "celltoolbar": "Slideshow",
  "kernelspec": {
   "display_name": "Python 2",
   "language": "python",
   "name": "python2"
  },
  "language_info": {
   "codemirror_mode": {
    "name": "ipython",
    "version": 2
   },
   "file_extension": ".py",
   "mimetype": "text/x-python",
   "name": "python",
   "nbconvert_exporter": "python",
   "pygments_lexer": "ipython2",
   "version": "2.7.10"
  }
 },
 "nbformat": 4,
 "nbformat_minor": 0
}
