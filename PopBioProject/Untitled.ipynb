{
 "cells": [
  {
   "cell_type": "code",
   "execution_count": 8,
   "metadata": {
    "collapsed": true
   },
   "outputs": [],
   "source": [
    "import numpy as np\n",
    "import matplotlib.pyplot as plt"
   ]
  },
  {
   "cell_type": "code",
   "execution_count": 4,
   "metadata": {
    "collapsed": true
   },
   "outputs": [],
   "source": [
    "def f(x):\n",
    "    \"\"\"An (arbitrary) quadratic mathematical function.\n",
    "       It has fixpoints 0 and 0.5.\n",
    "\n",
    "    >>> f(0)\n",
    "    0\n",
    "    >>> f(0.5)\n",
    "    0.5\n",
    "    \"\"\"\n",
    "    return 2*x*(1-x)\n"
   ]
  },
  {
   "cell_type": "code",
   "execution_count": 5,
   "metadata": {
    "collapsed": true
   },
   "outputs": [],
   "source": [
    "def g(x):\n",
    "    \"\"\"An (arbitrary) quadratic mathematical function.\n",
    "       It has fixpoints 0 and (+/-) 1/sqrt(2)\n",
    "\n",
    "    >>> g(0)\n",
    "    0\n",
    "    >>> \"%0.4f\" % g(-0.7071)\n",
    "    '-0.7071'\n",
    "    \"\"\"\n",
    "    return 2*x*(1-x)*(1+x)"
   ]
  },
  {
   "cell_type": "code",
   "execution_count": 6,
   "metadata": {
    "collapsed": true
   },
   "outputs": [],
   "source": [
    "class fixpt(object):\n",
    "    \"\"\"Find fixed points of a given function f.\"\"\"\n",
    "    def __init__(self, x, f, xmin=0, xmax=1, epsilon=1.0E-100):\n",
    "        \"\"\"Constructor\n",
    "        @param x float - where to start search\n",
    "        @param f function - function that should get evaluated\n",
    "        @param xmin float - Interval that gets examined\n",
    "        @param xmax float - Interval that gets examined\n",
    "        @param epsilon float - comparison when floats are considered to be\n",
    "                               the same\n",
    "        \"\"\"\n",
    "        self.x = x\n",
    "        self.f = f\n",
    "        self.xmin = xmin\n",
    "        self.xmax = xmax\n",
    "        self.epsilon = epsilon\n",
    "\n",
    "    def search(self, N=1000, store=False):\n",
    "        \"\"\"Search fixed points.\n",
    "        @param N int - number of iterations\n",
    "        @param store - bool - if set, return ????\n",
    "        @return I did not understand that. It seems to depend on 'store'\n",
    "\n",
    "        >>> fixpointiter = fixpt(0, f)\n",
    "        >>> fixpointiter.search()\n",
    "        (0, 0, 0)\n",
    "        \"\"\"\n",
    "        # Set initial values\n",
    "        x = self.x\n",
    "        y = self.f(x)\n",
    "        n = 0\n",
    "        if store:\n",
    "            values = [(x, y)]  # Why?\n",
    "        while abs(y-x) >= self.epsilon and n < N:\n",
    "            x = f(x)\n",
    "            n += 1\n",
    "            y = f(x)\n",
    "            if store:\n",
    "                values.append((x, y))\n",
    "        if store:\n",
    "            return y, values\n",
    "        else:\n",
    "            if n >= N or x == -float('inf') or x == float('inf'):\n",
    "                # No fixed point for given initial condition\n",
    "                return None\n",
    "            else:\n",
    "                return x, n, y\n",
    "\n",
    "    def plot(self):\n",
    "        \"\"\"Draw a cobweb plot.\"\"\"\n",
    "        _, points = self.search(store=True)\n",
    "        xaxis = np.linspace(self.xmin, self.xmax, 1000)\n",
    "        plt.plot(xaxis, f(xaxis), 'b')\n",
    "        plt.plot(xaxis, xaxis, 'r')\n",
    "\n",
    "        for x, y in points:\n",
    "            plt.plot([x, x], [x, y], 'g')\n",
    "            plt.plot([x, y], [y, y], 'g')\n",
    "\n",
    "        plt.show()\n",
    "\n",
    "    def scan(self):\n",
    "        \"\"\"Scan for all fix points in xmin / xmax.\"\"\"\n",
    "        x_range = np.linspace(self.xmin, self.xmax, 1000)\n",
    "        fixpoints = []\n",
    "        for x in x_range:\n",
    "            self.x = x\n",
    "            ret = self.search()\n",
    "            if ret is not None:\n",
    "                fixpoints.append(ret[0])\n",
    "        # Get rid of duplicates\n",
    "        fixpoints = sorted(fixpoints)\n",
    "        final = []\n",
    "        for x in fixpoints:\n",
    "            # It's not the same as the last fixpoint\n",
    "            if len(final) == 0 or abs(final[-1]-x) >= self.epsilon:\n",
    "                final.append(x)\n",
    "        return final"
   ]
  },
  {
   "cell_type": "code",
   "execution_count": 9,
   "metadata": {
    "collapsed": false
   },
   "outputs": [
    {
     "name": "stdout",
     "output_type": "stream",
     "text": [
      "(0, 0, 0)\n",
      "(0, [(0, 0)])\n",
      "[0.49999999999999994, 0.5]\n"
     ]
    },
    {
     "name": "stderr",
     "output_type": "stream",
     "text": [
      "/Users/WRShoemaker/anaconda/lib/python2.7/site-packages/ipykernel/__main__.py:10: RuntimeWarning: overflow encountered in double_scalars\n",
      "/Users/WRShoemaker/anaconda/lib/python2.7/site-packages/ipykernel/__main__.py:34: RuntimeWarning: invalid value encountered in double_scalars\n"
     ]
    }
   ],
   "source": [
    "if __name__ == '__main__':\n",
    "    # Automatic doctest\n",
    "    import doctest\n",
    "    doctest.testmod()\n",
    "    # Usage example\n",
    "    fixpointiter = fixpt(0, g, -2, 2)\n",
    "    print(fixpointiter.search())\n",
    "    print(fixpointiter.search(store=True))\n",
    "    print(fixpointiter.scan())"
   ]
  },
  {
   "cell_type": "code",
   "execution_count": null,
   "metadata": {
    "collapsed": true
   },
   "outputs": [],
   "source": []
  }
 ],
 "metadata": {
  "kernelspec": {
   "display_name": "Python 2",
   "language": "python",
   "name": "python2"
  },
  "language_info": {
   "codemirror_mode": {
    "name": "ipython",
    "version": 2
   },
   "file_extension": ".py",
   "mimetype": "text/x-python",
   "name": "python",
   "nbconvert_exporter": "python",
   "pygments_lexer": "ipython2",
   "version": "2.7.10"
  }
 },
 "nbformat": 4,
 "nbformat_minor": 0
}
