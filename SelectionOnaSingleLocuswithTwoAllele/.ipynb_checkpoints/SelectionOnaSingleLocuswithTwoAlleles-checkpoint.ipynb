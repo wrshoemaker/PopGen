{
 "cells": [
  {
   "cell_type": "markdown",
   "metadata": {},
   "source": [
    "# Selection On a Single Locus with Two Alleles"
   ]
  },
  {
   "cell_type": "markdown",
   "metadata": {},
   "source": [
    "In this assignment we are looking at the change in allele frequency at a single site over 200 generations due to selection in an infinitely large population. We restrict the number of alleles at our locus to two, represented by $p$ and $(1-p)$. With two alleles there are three possible genotypes. The frequencies are $p^{2}$, $2p(1-p)$, and $(1-p)^{2}$. Since selection is occuring in our system, each genotype has a fitness value associated with it. We define the fitness values as $W_{11}$, $W_{12}$ and $W_{22}$, with the subscripts $1$ and $2$ representing the alleles $p$ and $(1-p)$, respectfully. \n",
    "\n",
    "We can multiply the frequency of each genotype by its fitness value, which can be interpreted as the sum of the genotypic frequencies weighted by their genotypes, giving us the mean fitness of the population:\n",
    "\n",
    "$$\\overline{W} = p^{2}W_{11}+2p(1-p)W_{12}+(1-p)^{2}W_{22}$$\n",
    "\n",
    "By dividing the expected frequency of allele $p$ by the mean fitness of all genotypes, we get the expected frequency of $p$ in the next generation. \n",
    "\n",
    "$$p_{t+1} = \\frac{p^{2}W_{11} + p(1-2)W_{12}}{\\overline{W}}$$\n",
    "\n",
    "Using the recurrence equation above, we are able to write a simple for-loop using Python to examine the effect of selection on the frequency of $p$ over 200 generations. We set the initial frequency of $p$ to 0.01, say that $W_{11} = W_{12} = 1$, and that $W_{22} = 0.9$\n"
   ]
  },
  {
   "cell_type": "code",
   "execution_count": 6,
   "metadata": {
    "collapsed": true
   },
   "outputs": [],
   "source": [
    "%matplotlib inline\n",
    "from __future__ import division\n",
    "import numpy as np\n",
    "import matplotlib.pyplot as plt"
   ]
  },
  {
   "cell_type": "code",
   "execution_count": 7,
   "metadata": {
    "collapsed": true
   },
   "outputs": [],
   "source": [
    "W11 = W12 = 1\n",
    "W22 = 0.9\n",
    "p = 0.01\n",
    "generations = 200"
   ]
  },
  {
   "cell_type": "code",
   "execution_count": 8,
   "metadata": {
    "collapsed": false
   },
   "outputs": [],
   "source": []
  },
  {
   "cell_type": "code",
   "execution_count": 9,
   "metadata": {
    "collapsed": false
   },
   "outputs": [],
   "source": [
    "def SelectOneLocus(p, s, h, gens):\n",
    "    pFreq = []\n",
    "    W11 = 1\n",
    "    W12 = 1 - h*s\n",
    "    W22 = 1 - s\n",
    "    for x in range(0,gens):\n",
    "        if x == 0:\n",
    "            pFreq.insert(x, p)\n",
    "        else:\n",
    "            p = pFreq[x-1]\n",
    "            W_mean = ((p**2)*W11) + (2*(1-p)*p*W12) + (((1-p)**2)* W22) \n",
    "            pNew = (p*((p*W11) + ((1-p)*W12))) / W_mean\n",
    "            pFreq.insert(x, pNew)"
   ]
  },
  {
   "cell_type": "markdown",
   "metadata": {},
   "source": [
    "Now we plot the frequencies of $p$ over $200$ generations"
   ]
  },
  {
   "cell_type": "code",
   "execution_count": 11,
   "metadata": {
    "collapsed": false
   },
   "outputs": [
    {
     "data": {
      "image/png": "[encoded data removed]",
      "text/plain": [
       "<matplotlib.figure.Figure at 0x1065c3950>"
      ]
     },
     "metadata": {},
     "output_type": "display_data"
    }
   ],
   "source": [
    "plt.plot(pFreq)\n",
    "plt.xlabel('t, generations')\n",
    "plt.ylabel('p')\n",
    "plt.show()"
   ]
  }
 ],
 "metadata": {
  "kernelspec": {
   "display_name": "Python 2",
   "language": "python",
   "name": "python2"
  },
  "language_info": {
   "codemirror_mode": {
    "name": "ipython",
    "version": 2
   },
   "file_extension": ".py",
   "mimetype": "text/x-python",
   "name": "python",
   "nbconvert_exporter": "python",
   "pygments_lexer": "ipython2",
   "version": "2.7.10"
  }
 },
 "nbformat": 4,
 "nbformat_minor": 0
}
