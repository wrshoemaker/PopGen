{
 "cells": [
  {
   "cell_type": "markdown",
   "metadata": {},
   "source": [
    "# Selection On a Single Locus with Two Alleles"
   ]
  },
  {
   "cell_type": "markdown",
   "metadata": {},
   "source": [
    "In this assignment we are looking at the change in allele frequency at a single site over 200 generations due to selection in an infinitely large population. We restrict the number of alleles at our locus to two, represented by $p$ and $(1-p)$. With two alleles there are three possible genotypes. The frequencies are $p^{2}$, $2p(1-p)$, and $(1-p)^{2}$. Since selection is occuring in our system, each genotype has a fitness value associated with it. We define the fitness values as $W_{11}$, $W_{12}$ and $W_{22}$, with the subscripts $1$ and $2$ representing the alleles $p$ and $(1-p)$, respectfully. \n",
    "\n",
    "We can multiply the frequency of each genotype by its fitness value, which can be interpreted as the sum of the genotypic frequencies weighted by their genotypes, giving us the mean fitness of the population:\n",
    "\n",
    "$$\\overline{W} = p^{2}W_{11}+2p(1-p)W_{12}+(1-p)^{2}W_{22}$$\n",
    "\n",
    "By dividing the expected frequency of allele $p$ by the mean fitness of all genotypes, we get the expected frequency of $p$ in the next generation. \n",
    "\n",
    "$$p_{t+1} = \\frac{p^{2}W_{11} + p(1-2)W_{12}}{\\overline{W}}$$\n",
    "\n",
    "Using the recurrence equation above, we are able to write a simple for-loop using Python to examine the effect of selection on the frequency of $p$ over 200 generations. We set the initial frequency of $p$ to 0.01, say that $W_{11} = W_{12} = 1$, and that $W_{22} = 0.9$\n"
   ]
  },
  {
   "cell_type": "code",
   "execution_count": 2,
   "metadata": {
    "collapsed": true
   },
   "outputs": [],
   "source": [
    "%matplotlib inline\n",
    "from __future__ import division\n",
    "import numpy as np\n",
    "import matplotlib.pyplot as plt"
   ]
  },
  {
   "cell_type": "code",
   "execution_count": 22,
   "metadata": {
    "collapsed": false
   },
   "outputs": [],
   "source": [
    "def SelectOneLocus(p, s, h, gens):\n",
    "    pFreq = []\n",
    "    W11 = 1\n",
    "    W12 = 1 - h*s\n",
    "    W22 = 1 - s\n",
    "    for x in range(0,gens):\n",
    "        if x == 0:\n",
    "            pFreq.insert(x, p)\n",
    "        else:\n",
    "            p_next = pFreq[x-1]\n",
    "            W_mean = ((p_next**2)*W11) + (2*(1-p_next)*p_next*W12) + (((1-p_next)**2)* W22) \n",
    "            pNew = (p_next*((p_next*W11) + ((1-p_next)*W12))) / W_mean\n",
    "            pFreq.insert(x, pNew)\n",
    "    plt.plot(pFreq)\n",
    "    plt.xlabel('t, generations')\n",
    "    plt.ylabel('p')\n",
    "    plt.show()\n",
    "    return plt"
   ]
  },
  {
   "cell_type": "markdown",
   "metadata": {},
   "source": [
    "Now let's plot the situation where the dominant allele is favored over $1,000$ generations with values of $p = 0.01$, $s = 0.1$ and $h = 0$."
   ]
  },
  {
   "cell_type": "code",
   "execution_count": 23,
   "metadata": {
    "collapsed": false
   },
   "outputs": [
    {
     "data": {
      "image/png": "[encoded data removed]",
      "text/plain": [
       "<matplotlib.figure.Figure at 0x1066ad790>"
      ]
     },
     "metadata": {},
     "output_type": "display_data"
    },
    {
     "data": {
      "text/plain": [
       "<module 'matplotlib.pyplot' from '/Users/WRShoemaker/anaconda/lib/python2.7/site-packages/matplotlib/pyplot.pyc'>"
      ]
     },
     "execution_count": 23,
     "metadata": {},
     "output_type": "execute_result"
    }
   ],
   "source": [
    "SelectOneLocus(0.01, 0.1, 0, 1000)"
   ]
  },
  {
   "cell_type": "markdown",
   "metadata": {},
   "source": [
    "Next let's examine codominance with $p = 0.01$, $h = 0.5$ and $s = 0.1$ run for $1,000$ genrations."
   ]
  },
  {
   "cell_type": "code",
   "execution_count": 24,
   "metadata": {
    "collapsed": false
   },
   "outputs": [
    {
     "data": {
      "image/png": "[encoded data removed]",
      "text/plain": [
       "<matplotlib.figure.Figure at 0x1066e16d0>"
      ]
     },
     "metadata": {},
     "output_type": "display_data"
    },
    {
     "data": {
      "text/plain": [
       "<module 'matplotlib.pyplot' from '/Users/WRShoemaker/anaconda/lib/python2.7/site-packages/matplotlib/pyplot.pyc'>"
      ]
     },
     "execution_count": 24,
     "metadata": {},
     "output_type": "execute_result"
    }
   ],
   "source": [
    "SelectOneLocus(0.01, 0.1, 0.5, 1000)"
   ]
  },
  {
   "cell_type": "markdown",
   "metadata": {},
   "source": [
    "Last, we'll examine the situation where the recessive allele is favored with $p = 0.01$, $h = 1.0$ and $s = 0.1$ run for $1,00$ genrations."
   ]
  },
  {
   "cell_type": "code",
   "execution_count": 25,
   "metadata": {
    "collapsed": false
   },
   "outputs": [
    {
     "data": {
      "image/png": "[encoded data removed]",
      "text/plain": [
       "<matplotlib.figure.Figure at 0x1066e1690>"
      ]
     },
     "metadata": {},
     "output_type": "display_data"
    },
    {
     "data": {
      "text/plain": [
       "<module 'matplotlib.pyplot' from '/Users/WRShoemaker/anaconda/lib/python2.7/site-packages/matplotlib/pyplot.pyc'>"
      ]
     },
     "execution_count": 25,
     "metadata": {},
     "output_type": "execute_result"
    }
   ],
   "source": [
    "SelectOneLocus(0.01, 0.1, 1.0, 1000)"
   ]
  }
 ],
 "metadata": {
  "kernelspec": {
   "display_name": "Python 2",
   "language": "python",
   "name": "python2"
  },
  "language_info": {
   "codemirror_mode": {
    "name": "ipython",
    "version": 2
   },
   "file_extension": ".py",
   "mimetype": "text/x-python",
   "name": "python",
   "nbconvert_exporter": "python",
   "pygments_lexer": "ipython2",
   "version": "2.7.10"
  }
 },
 "nbformat": 4,
 "nbformat_minor": 0
}
