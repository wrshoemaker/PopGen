{
 "cells": [
  {
   "cell_type": "markdown",
   "metadata": {},
   "source": [
    "The goal of this notebook is to apply a model of dormancy to the model used in Constable and McKane 2015."
   ]
  },
  {
   "cell_type": "code",
   "execution_count": 1,
   "metadata": {
    "collapsed": true
   },
   "outputs": [],
   "source": [
    "%matplotlib inline\n",
    "from __future__ import division\n",
    "import numpy as np\n",
    "import matplotlib.pyplot as plt"
   ]
  },
  {
   "cell_type": "markdown",
   "metadata": {},
   "source": [
    "The model used here is similar in many ways, however, some clarification is necessary to understand the math below. We are interested in the dynamics of a dormant subpopulation and an active population. We start with a population of $n_{A}$ active individuals and $n_{D}$ dormant individuals.  The active subpopulation reproduces at a rate of $b_{A}$ and both subpopulations reproduce at rates of $d_{A}$ and $d_{D}$. Dormant individuals do not have a rate of reproduction as they cannot reproduce. We allow for compeition at rates of either $c_{AD}$ or $c_{DA}$, depending on the equation."
   ]
  },
  {
   "cell_type": "markdown",
   "metadata": {},
   "source": [
    "We are going with the rules laid out in Constable and McKane of setting up  a well-mixed system with the state specified by $\\mathbf{n} = (n_{A}, n_{D})$. Below we define the rates at which active and dormant subpopulations reproduce, die, switch states by resusitation, or engage in competition. \n",
    "\n",
    "$$T_{1}(n_{A}+1, n_{D}\\mid n_{A}, n_{D}) = b_{A}\\frac{n_{A}}{V}$$\n",
    "$$T_{2}(n_{A}, n_{D}+1\\mid n_{A}, n_{D}) = 0$$\n",
    "$$T_{3}(n_{A}-1, n_{D}\\mid n_{A}, n_{D}) = d_{A}\\frac{n_{A}}{V} + c_{AA}\\frac{n_{A}}{V}\\frac{n_{A}}{V}+c_{AD}\\frac{n_{D}}{V}\\frac{n_{A}}{V}$$\n",
    "$$T_{4}(n_{A}, n_{D}-1\\mid n_{A}, n_{D}) = d_{D}\\frac{n_{D}}{V} + c_{DD}\\frac{n_{D}}{V}\\frac{n_{D}}{V}+c_{DA}\\frac{n_{A}}{V}\\frac{n_{D}}{V}$$\n",
    "$$T_{5}(n_{A}+1, n_{D}-1\\mid n_{A}, n_{D}) = R\\frac{n_D}{V}$$\n",
    "$$T_{6}(n_{A}-1, n_{D}+1\\mid n_{A}, n_{D}) = (1-R)\\frac{n_A}{V}$$\n",
    "\n",
    "The parameter $V$ is a measure of the size of the system. Using the logic form Constable and McKane 2015, this parameter will be absorved into the rates $b_{i}$, $d_{i}$, and $c_{ij}$. The probability of finding the system in state $\\mathbf{n}$ at time $t$, $P_{n}(t)$ can be found using the master equaiton: $$\\frac{dP_{n}(t)}{dt} = \\sum_{\\mu =1}^{6}[T_{\\mu}(n\\mid n-v_{\\mu})P_{n-v_{\\mu}}(t)-T_{\\mu}(n+v_{\\mu}\\mid n)P_{n}(t)]$$\n",
    "\n",
    "where $v_{\\mu}$ represents the number of individuals of one type that are transformed during the reaction $\\mu=1,...,6$, so \n",
    "$v_{1} = (1,0)$\n",
    "$v_{2} = (0,1)$\n",
    "$v_{3} = (-1,0)$\n",
    "$v_{4} = (0,-1)$\n",
    "$v_{5} = (1,-1)$\n",
    "$v_{6} = (-1,1)$.\n",
    "\n",
    "We can find $P_{n}(t)$ for all t using the two equations above and an initial condition for $P_{n}.$ However, the master equaiton is intractable, so a diffusion approximation is done by first assuming that V is large enough that $x_{i} \\equiv n_{i}/V$ is continuous. Next we expand the master equation as a power series in $V^{-1}$ to get the Fokker-Planck equation: $$\\frac{\\partial P(x,\\tau )}{\\partial \\tau} = -\\sum_{i =1}^{2}\\frac{\\partial }{\\partial x_{i}}[A_{i}(x)P(x, \\tau)] + \\frac{1}{2V}\\sum_{i,j=1}^{2}\\frac{\\partial^2 }{\\partial x_{i} \\partial x_{j}}[B_{ij}(x)P(x, \\tau)],$$\n",
    "\n",
    "Where $\\tau = t/V$ is rescaled time and higher-order terms have been rejected. \n",
    "Functions $A_{i}$ and $B_{ij}$ can be expressed in terms of the $v_{i, \\mu}$ and function $f_{u}$ as:"
   ]
  },
  {
   "cell_type": "code",
   "execution_count": null,
   "metadata": {
    "collapsed": true
   },
   "outputs": [],
   "source": []
  }
 ],
 "metadata": {
  "kernelspec": {
   "display_name": "Python 2",
   "language": "python",
   "name": "python2"
  },
  "language_info": {
   "codemirror_mode": {
    "name": "ipython",
    "version": 2
   },
   "file_extension": ".py",
   "mimetype": "text/x-python",
   "name": "python",
   "nbconvert_exporter": "python",
   "pygments_lexer": "ipython2",
   "version": "2.7.10"
  }
 },
 "nbformat": 4,
 "nbformat_minor": 0
}
